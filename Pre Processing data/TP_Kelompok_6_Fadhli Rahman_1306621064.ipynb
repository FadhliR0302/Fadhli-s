{
 "cells": [
  {
   "cell_type": "markdown",
   "metadata": {},
   "source": [
    "Fadhli Rahman\n",
    "1306621064"
   ]
  },
  {
   "cell_type": "code",
   "execution_count": 276,
   "metadata": {},
   "outputs": [],
   "source": [
    "import numpy as np\n",
    "import pandas as pd\n",
    "import random\n",
    "import matplotlib.pyplot as plt\n",
    "import seaborn as sns\n",
    "import plotly.express as px\n",
    "\n",
    "from sklearn import tree\n",
    "from sklearn.model_selection import train_test_split\n",
    "from sklearn.metrics import accuracy_score\n",
    "from sklearn.datasets import load_iris\n",
    "from sklearn.metrics import confusion_matrix\n",
    "from sklearn.metrics import precision_score\n",
    "from sklearn.metrics import recall_score\n",
    "from sklearn.metrics import classification_report\n",
    "from sklearn.metrics import auc\n",
    "from sklearn.metrics import roc_curve\n",
    "from sklearn.preprocessing import label_binarize\n",
    "from sklearn.metrics import precision_recall_curve\n",
    "\n",
    "from sklearn.metrics import ConfusionMatrixDisplay\n",
    "from sklearn.neural_network import MLPClassifier"
   ]
  },
  {
   "cell_type": "markdown",
   "metadata": {},
   "source": [
    "## Langkah 1: Pengumpulan Data"
   ]
  },
  {
   "cell_type": "markdown",
   "metadata": {},
   "source": [
    "### Gunakan kembali dataset yang telah anda peroleh pada tugas TP1. Jelaskan apakah dataset tersebut sesuai untuk klasifikasi? Jika tidak, unduh dataset di UCI Repository yang sesuai untuk klasifikasi"
   ]
  },
  {
   "cell_type": "code",
   "execution_count": 277,
   "metadata": {},
   "outputs": [
    {
     "data": {
      "text/html": [
       "<div>\n",
       "<style scoped>\n",
       "    .dataframe tbody tr th:only-of-type {\n",
       "        vertical-align: middle;\n",
       "    }\n",
       "\n",
       "    .dataframe tbody tr th {\n",
       "        vertical-align: top;\n",
       "    }\n",
       "\n",
       "    .dataframe thead th {\n",
       "        text-align: right;\n",
       "    }\n",
       "</style>\n",
       "<table border=\"1\" class=\"dataframe\">\n",
       "  <thead>\n",
       "    <tr style=\"text-align: right;\">\n",
       "      <th></th>\n",
       "      <th>vhigh</th>\n",
       "      <th>vhigh.1</th>\n",
       "      <th>2</th>\n",
       "      <th>2.1</th>\n",
       "      <th>small</th>\n",
       "      <th>low</th>\n",
       "      <th>unacc</th>\n",
       "    </tr>\n",
       "  </thead>\n",
       "  <tbody>\n",
       "    <tr>\n",
       "      <th>0</th>\n",
       "      <td>vhigh</td>\n",
       "      <td>vhigh</td>\n",
       "      <td>2</td>\n",
       "      <td>2</td>\n",
       "      <td>small</td>\n",
       "      <td>med</td>\n",
       "      <td>unacc</td>\n",
       "    </tr>\n",
       "    <tr>\n",
       "      <th>1</th>\n",
       "      <td>vhigh</td>\n",
       "      <td>vhigh</td>\n",
       "      <td>2</td>\n",
       "      <td>2</td>\n",
       "      <td>small</td>\n",
       "      <td>high</td>\n",
       "      <td>unacc</td>\n",
       "    </tr>\n",
       "    <tr>\n",
       "      <th>2</th>\n",
       "      <td>vhigh</td>\n",
       "      <td>vhigh</td>\n",
       "      <td>2</td>\n",
       "      <td>2</td>\n",
       "      <td>med</td>\n",
       "      <td>low</td>\n",
       "      <td>unacc</td>\n",
       "    </tr>\n",
       "    <tr>\n",
       "      <th>3</th>\n",
       "      <td>vhigh</td>\n",
       "      <td>vhigh</td>\n",
       "      <td>2</td>\n",
       "      <td>2</td>\n",
       "      <td>med</td>\n",
       "      <td>med</td>\n",
       "      <td>unacc</td>\n",
       "    </tr>\n",
       "    <tr>\n",
       "      <th>4</th>\n",
       "      <td>vhigh</td>\n",
       "      <td>vhigh</td>\n",
       "      <td>2</td>\n",
       "      <td>2</td>\n",
       "      <td>med</td>\n",
       "      <td>high</td>\n",
       "      <td>unacc</td>\n",
       "    </tr>\n",
       "  </tbody>\n",
       "</table>\n",
       "</div>"
      ],
      "text/plain": [
       "   vhigh vhigh.1  2 2.1  small   low  unacc\n",
       "0  vhigh   vhigh  2   2  small   med  unacc\n",
       "1  vhigh   vhigh  2   2  small  high  unacc\n",
       "2  vhigh   vhigh  2   2    med   low  unacc\n",
       "3  vhigh   vhigh  2   2    med   med  unacc\n",
       "4  vhigh   vhigh  2   2    med  high  unacc"
      ]
     },
     "execution_count": 277,
     "metadata": {},
     "output_type": "execute_result"
    }
   ],
   "source": [
    "dt = pd.read_csv('car.data')\n",
    "dt.head()"
   ]
  },
  {
   "cell_type": "markdown",
   "metadata": {},
   "source": [
    "### Jelaskan atribut/fitur dari data yang anda gunakan"
   ]
  },
  {
   "cell_type": "markdown",
   "metadata": {},
   "source": [
    "#### Informasi Mengenai Atribut:\n",
    "\n",
    "   Data evaluasi mobil diambil dari model hirarkis sederhana \n",
    "\n",
    "   yang dibuat untuk mendemonstrasikan DEX \n",
    "\n",
    "   (M. Bohanec, V. Rajkovic: Expert system for decision\n",
    "\n",
    "   making. Sistemica 1(1), pp. 145-157, 1990.).\n",
    "\n",
    "   Model ini mengevaluasi mobil berdasarkan beberapa konsep, seperti:\n",
    "   \n",
    "   MOBIL                    Nilai mobil\n",
    "\n",
    "   . HARGA                  Harga keseluruhan\n",
    "\n",
    "   . . Pembelian               Harga beli\n",
    "\n",
    "   . . Pemeliharaan            Biaya pemeliharaan\n",
    "\n",
    "   . TEKNIK                   karakteristik teknik\n",
    "\n",
    "   . . KENYAMANAN              Kenyamanan\n",
    "\n",
    "   . . . Pintu                   Jumlah pintu\n",
    "\n",
    "   . . . Penumpang               Jumlah penumpang yang bisa dibawa\n",
    "\n",
    "   . . . Bagasi                  Ukuran bagasi\n",
    "   \n",
    "   . . Keamanan               Tingkat fitur keamanan\n",
    "\n",
    "   Input atribut dituliskan dalam huruf kecil, selai dari konsep\n",
    "\n",
    "   target (MOBIL), model ini juga memperhitungkan tiga konsep tengah:\n",
    "\n",
    "   HARGA, TEKNIK, KENYAMANAN. Setiap konsep tabg ada di dalam konsep \n",
    "\n",
    "   utama berhubungan dengan keturunan level rendahnya dari beberapa\n",
    "\n",
    "   contoh (contoh-contohnya dapat dilihat \n",
    "\n",
    "   di:http://www-ai.ijs.si/BlazZupan/car.html).\n",
    "\n",
    "\n",
    "   Data evaluasi mobil mengandung contoh-contoh dengan informasi\n",
    "\n",
    "   struktur yang dihapus, misal, hal-hal yang berhubungan dengan\n",
    "\n",
    "   enam atribut yang dimasukan di dalam data.\n",
    "\n",
    "\n",
    "   Karena adanya struktur konsep, data ini mungkin berguna untuk\n",
    "\n",
    "   test konstruktif induktif dan metode penemuan struktur.\n",
    "   \n",
    "\n",
    "#### Jumlah Data: 1728\n",
    "\n",
    "#### Jumlah Atribut: 6\n",
    "\n",
    "#### Nilai Atribut:\n",
    "\n",
    "   buying       v-high, high, med, low\n",
    "   maint        v-high, high, med, low\n",
    "   doors        2, 3, 4, 5-more\n",
    "   persons      2, 4, more\n",
    "   lug_boot     small, med, big\n",
    "   safety       low, med, high\n"
   ]
  },
  {
   "cell_type": "markdown",
   "metadata": {},
   "source": []
  },
  {
   "cell_type": "markdown",
   "metadata": {},
   "source": [
    "### Jelaskan apa tujuan anda pada projek ini?"
   ]
  },
  {
   "cell_type": "markdown",
   "metadata": {},
   "source": [
    "#### Prediksi Klasifikasi Mobil: Menggunakan model Neural Network (ANN), kami akan membangun algoritma yang dapat memprediksi kategori atau klasifikasi dari mobil berdasarkan atribut-atribut yang telah disebutkan. Klasifikasi ini bisa berupa harga (misalnya, mahal, sedang, murah), tingkat keamanan (rendah, sedang, tinggi), dan sebagainya. Dengan demikian, kita dapat memberikan rekomendasi atau informasi yang berguna kepada calon pembeli atau konsumen tentang mobil yang sesuai dengan preferensi dan kebutuhan mereka.\n",
    "\n",
    "#### Evaluasi Model: Selain membangun model, projek ini juga akan mencakup pengujian dan evaluasi model yang telah dibangun. Kami akan menggunakan data yang ada untuk mengukur kinerja model, seperti akurasi prediksi dan metrik evaluasi lainnya. Hal ini penting untuk memastikan bahwa model yang dikembangkan dapat memberikan hasil yang akurat dan dapat diandalkan dalam memprediksi klasifikasi mobil.\n",
    "\n",
    "#### Menyusun Laporan Projek: Hasil dari pekerjaan projek akan disusun dalam sebuah laporan. Laporan ini akan mencakup deskripsi tentang data yang digunakan, proses pemrosesan data, arsitektur dan konfigurasi model Neural Network yang digunakan, hasil evaluasi model, serta kesimpulan dan rekomendasi berdasarkan hasil projek ini. Laporan ini akan diunggah ke platform Epsilon sesuai dengan batas waktu yang telah ditentukan.\n",
    "\n",
    "#### Kerja Tim: Projek ini dilakukan dalam kelompok beranggotakan 2-3 orang mahasiswa, sehingga salah satu tujuannya adalah melatih keterampilan kolaborasi dalam pengembangan model dan penulisan laporan. Ini adalah kesempatan bagi anggota kelompok untuk berbagi pengetahuan dan mengatasi tantangan bersama dalam membangun model ANN yang efektif."
   ]
  },
  {
   "cell_type": "markdown",
   "metadata": {},
   "source": []
  },
  {
   "cell_type": "markdown",
   "metadata": {},
   "source": [
    "### Pisahkan dataset menjadi data_training dan data_test dengan perbandingan 80:20."
   ]
  },
  {
   "cell_type": "code",
   "execution_count": 278,
   "metadata": {},
   "outputs": [
    {
     "name": "stdout",
     "output_type": "stream",
     "text": [
      "buying_low       False\n",
      "buying_med       False\n",
      "buying_high      False\n",
      "buying_vhigh      True\n",
      "maint_low        False\n",
      "maint_med        False\n",
      "maint_high       False\n",
      "maint_vhigh       True\n",
      "doors_2           True\n",
      "doors_3          False\n",
      "doors_4          False\n",
      "doors_5more      False\n",
      "persons_2         True\n",
      "persons_4        False\n",
      "persons_more     False\n",
      "lugboot_small     True\n",
      "lugboot_med      False\n",
      "lugboot_big      False\n",
      "safety_low       False\n",
      "safety_med        True\n",
      "safety_high      False\n",
      "buying           vhigh\n",
      "maint            vhigh\n",
      "doors                2\n",
      "persons              2\n",
      "lugboot          small\n",
      "safety             med\n",
      "label            unacc\n",
      "class            False\n",
      "Name: 0, dtype: object\n",
      "class\n",
      "False    1209\n",
      "True      518\n",
      "Name: count, dtype: int64\n"
     ]
    }
   ],
   "source": [
    "dt.columns = ['buying','maint','doors','persons','lugboot','safety','label']\n",
    "\n",
    "dt.buying  = pd.Categorical(dt.buying, categories=['low', 'med', 'high', 'vhigh'], ordered=True)\n",
    "dt.maint   = pd.Categorical(dt.maint, categories=['low', 'med', 'high', 'vhigh'], ordered=True)\n",
    "dt.doors   = pd.Categorical(dt.doors, categories=['2', '3', '4', '5more'], ordered=True)\n",
    "dt.persons = pd.Categorical(dt.persons, categories=[ '2', '4', 'more'], ordered=True)\n",
    "dt.lugboot = pd.Categorical(dt.lugboot, categories=['small', 'med', 'big'], ordered=True)\n",
    "dt.safety  = pd.Categorical(dt.safety, categories=['low', 'med', 'high'], ordered=True)\n",
    "dt.label   = pd.Categorical(dt.label, categories=['unacc','acc','good','vgood'], ordered=True)\n",
    "\n",
    "dt['class'] = ~(dt['label']=='unacc')\n",
    "\n",
    "dt = pd.get_dummies(dt.iloc[:,0:6]).merge(dt,left_index=True,right_index=True)\n",
    "\n",
    "print(dt.iloc[0])\n",
    "\n",
    "print(dt['class'].value_counts())"
   ]
  },
  {
   "cell_type": "code",
   "execution_count": 279,
   "metadata": {},
   "outputs": [],
   "source": [
    "x = dt.drop(columns=['lugboot','safety','label','buying','maint','persons','doors'])\n",
    "y = dt['buying']"
   ]
  },
  {
   "cell_type": "code",
   "execution_count": 280,
   "metadata": {},
   "outputs": [],
   "source": [
    "iris = load_iris()\n",
    "x = iris.data\n",
    "y = iris.target\n"
   ]
  },
  {
   "cell_type": "code",
   "execution_count": 281,
   "metadata": {},
   "outputs": [],
   "source": [
    "X_train, X_test, y_train, y_test = train_test_split(x, y, test_size=0.2, random_state=42)"
   ]
  },
  {
   "cell_type": "markdown",
   "metadata": {},
   "source": [
    "## Langkah 2: Pra-Pemrosesan Data"
   ]
  },
  {
   "cell_type": "markdown",
   "metadata": {},
   "source": [
    "### Lakukan normalisasi data: scaling fitur-fitur ke dalam rentang [0, 1]."
   ]
  },
  {
   "cell_type": "markdown",
   "metadata": {},
   "source": [
    "#### Data telah berbentuk True False (boolean) alias dari 0 ke 1"
   ]
  },
  {
   "cell_type": "code",
   "execution_count": 282,
   "metadata": {},
   "outputs": [
    {
     "name": "stdout",
     "output_type": "stream",
     "text": [
      "<class 'pandas.core.frame.DataFrame'>\n",
      "RangeIndex: 1727 entries, 0 to 1726\n",
      "Data columns (total 29 columns):\n",
      " #   Column         Non-Null Count  Dtype   \n",
      "---  ------         --------------  -----   \n",
      " 0   buying_low     1727 non-null   bool    \n",
      " 1   buying_med     1727 non-null   bool    \n",
      " 2   buying_high    1727 non-null   bool    \n",
      " 3   buying_vhigh   1727 non-null   bool    \n",
      " 4   maint_low      1727 non-null   bool    \n",
      " 5   maint_med      1727 non-null   bool    \n",
      " 6   maint_high     1727 non-null   bool    \n",
      " 7   maint_vhigh    1727 non-null   bool    \n",
      " 8   doors_2        1727 non-null   bool    \n",
      " 9   doors_3        1727 non-null   bool    \n",
      " 10  doors_4        1727 non-null   bool    \n",
      " 11  doors_5more    1727 non-null   bool    \n",
      " 12  persons_2      1727 non-null   bool    \n",
      " 13  persons_4      1727 non-null   bool    \n",
      " 14  persons_more   1727 non-null   bool    \n",
      " 15  lugboot_small  1727 non-null   bool    \n",
      " 16  lugboot_med    1727 non-null   bool    \n",
      " 17  lugboot_big    1727 non-null   bool    \n",
      " 18  safety_low     1727 non-null   bool    \n",
      " 19  safety_med     1727 non-null   bool    \n",
      " 20  safety_high    1727 non-null   bool    \n",
      " 21  buying         1727 non-null   category\n",
      " 22  maint          1727 non-null   category\n",
      " 23  doors          1727 non-null   category\n",
      " 24  persons        1727 non-null   category\n",
      " 25  lugboot        1727 non-null   category\n",
      " 26  safety         1727 non-null   category\n",
      " 27  label          1727 non-null   category\n",
      " 28  class          1727 non-null   bool    \n",
      "dtypes: bool(22), category(7)\n",
      "memory usage: 50.2 KB\n"
     ]
    }
   ],
   "source": [
    "dt.info()"
   ]
  },
  {
   "cell_type": "markdown",
   "metadata": {},
   "source": []
  },
  {
   "cell_type": "markdown",
   "metadata": {},
   "source": [
    "### Konversi label kategori/kelas ke bentuk one-hot encoding."
   ]
  },
  {
   "cell_type": "code",
   "execution_count": 283,
   "metadata": {},
   "outputs": [
    {
     "name": "stdout",
     "output_type": "stream",
     "text": [
      "      buying_low  buying_med  buying_high  buying_vhigh  maint_low  maint_med  \\\n",
      "0          False       False        False          True      False      False   \n",
      "1          False       False        False          True      False      False   \n",
      "2          False       False        False          True      False      False   \n",
      "3          False       False        False          True      False      False   \n",
      "4          False       False        False          True      False      False   \n",
      "...          ...         ...          ...           ...        ...        ...   \n",
      "1722        True       False        False         False       True      False   \n",
      "1723        True       False        False         False       True      False   \n",
      "1724        True       False        False         False       True      False   \n",
      "1725        True       False        False         False       True      False   \n",
      "1726        True       False        False         False       True      False   \n",
      "\n",
      "      maint_high  maint_vhigh  doors_2  doors_3  ...  doors  persons  lugboot  \\\n",
      "0          False         True     True    False  ...      2        2    small   \n",
      "1          False         True     True    False  ...      2        2    small   \n",
      "2          False         True     True    False  ...      2        2      med   \n",
      "3          False         True     True    False  ...      2        2      med   \n",
      "4          False         True     True    False  ...      2        2      med   \n",
      "...          ...          ...      ...      ...  ...    ...      ...      ...   \n",
      "1722       False        False    False    False  ...  5more     more      med   \n",
      "1723       False        False    False    False  ...  5more     more      med   \n",
      "1724       False        False    False    False  ...  5more     more      big   \n",
      "1725       False        False    False    False  ...  5more     more      big   \n",
      "1726       False        False    False    False  ...  5more     more      big   \n",
      "\n",
      "      safety  label  class  kelas_unacc  kelas_acc  kelas_good  kelas_vgood  \n",
      "0        med  unacc  False         True      False       False        False  \n",
      "1       high  unacc  False         True      False       False        False  \n",
      "2        low  unacc  False         True      False       False        False  \n",
      "3        med  unacc  False         True      False       False        False  \n",
      "4       high  unacc  False         True      False       False        False  \n",
      "...      ...    ...    ...          ...        ...         ...          ...  \n",
      "1722     med   good   True        False      False        True        False  \n",
      "1723    high  vgood   True        False      False       False         True  \n",
      "1724     low  unacc  False         True      False       False        False  \n",
      "1725     med   good   True        False      False        True        False  \n",
      "1726    high  vgood   True        False      False       False         True  \n",
      "\n",
      "[1727 rows x 33 columns]\n"
     ]
    }
   ],
   "source": [
    "kelas_encoded = pd.get_dummies(dt['label'], prefix='kelas')\n",
    "\n",
    "data_kelas_encoded = pd.concat([dt, kelas_encoded], axis=1)\n",
    "\n",
    "print(data_kelas_encoded)\n"
   ]
  },
  {
   "cell_type": "markdown",
   "metadata": {},
   "source": [
    "## Langkah 3: Membangun Model MLP 2 Lapis"
   ]
  },
  {
   "cell_type": "markdown",
   "metadata": {},
   "source": [
    "### \n",
    "Tulislah program Python untuk memodelkan neural networks Multi Layer\n",
    "Perceptron 2 lapis (contoh program bisa dilihat pada buku Raschka). Jelaskan apa\n",
    "yang digunakan pada program tersebut:"
   ]
  },
  {
   "cell_type": "code",
   "execution_count": 284,
   "metadata": {},
   "outputs": [],
   "source": [
    "mlp = MLPClassifier(hidden_layer_sizes=(10, 5), max_iter=1000, random_state=42, validation_fraction=0.2)\n"
   ]
  },
  {
   "cell_type": "markdown",
   "metadata": {},
   "source": [
    "###\n",
    "− Apa metrik untuk mengukur performa model: ……….\n",
    "\n",
    "− Fungsi rugi (cost function): …………\n",
    "\n",
    "− Optimizer : …………"
   ]
  },
  {
   "cell_type": "markdown",
   "metadata": {},
   "source": [
    "###\n",
    "- Mengukur model menggunakan tingkat akurasi\n",
    "\n",
    "- Cost Function menggunakan fungsi cross-entropy\n",
    "\n",
    "- Optimizer menggunakan algoritma \"adam\""
   ]
  },
  {
   "cell_type": "markdown",
   "metadata": {},
   "source": []
  },
  {
   "cell_type": "markdown",
   "metadata": {},
   "source": [
    "## Langkah 4: Melatih Model"
   ]
  },
  {
   "cell_type": "markdown",
   "metadata": {},
   "source": [
    "### Latihlah model dengan data latih."
   ]
  },
  {
   "cell_type": "code",
   "execution_count": 285,
   "metadata": {},
   "outputs": [
    {
     "name": "stderr",
     "output_type": "stream",
     "text": [
      "c:\\Users\\Insan\\AppData\\Local\\Programs\\Python\\Python311\\Lib\\site-packages\\sklearn\\neural_network\\_multilayer_perceptron.py:691: ConvergenceWarning: Stochastic Optimizer: Maximum iterations (1000) reached and the optimization hasn't converged yet.\n",
      "  warnings.warn(\n"
     ]
    },
    {
     "data": {
      "text/html": [
       "<style>#sk-container-id-15 {color: black;}#sk-container-id-15 pre{padding: 0;}#sk-container-id-15 div.sk-toggleable {background-color: white;}#sk-container-id-15 label.sk-toggleable__label {cursor: pointer;display: block;width: 100%;margin-bottom: 0;padding: 0.3em;box-sizing: border-box;text-align: center;}#sk-container-id-15 label.sk-toggleable__label-arrow:before {content: \"▸\";float: left;margin-right: 0.25em;color: #696969;}#sk-container-id-15 label.sk-toggleable__label-arrow:hover:before {color: black;}#sk-container-id-15 div.sk-estimator:hover label.sk-toggleable__label-arrow:before {color: black;}#sk-container-id-15 div.sk-toggleable__content {max-height: 0;max-width: 0;overflow: hidden;text-align: left;background-color: #f0f8ff;}#sk-container-id-15 div.sk-toggleable__content pre {margin: 0.2em;color: black;border-radius: 0.25em;background-color: #f0f8ff;}#sk-container-id-15 input.sk-toggleable__control:checked~div.sk-toggleable__content {max-height: 200px;max-width: 100%;overflow: auto;}#sk-container-id-15 input.sk-toggleable__control:checked~label.sk-toggleable__label-arrow:before {content: \"▾\";}#sk-container-id-15 div.sk-estimator input.sk-toggleable__control:checked~label.sk-toggleable__label {background-color: #d4ebff;}#sk-container-id-15 div.sk-label input.sk-toggleable__control:checked~label.sk-toggleable__label {background-color: #d4ebff;}#sk-container-id-15 input.sk-hidden--visually {border: 0;clip: rect(1px 1px 1px 1px);clip: rect(1px, 1px, 1px, 1px);height: 1px;margin: -1px;overflow: hidden;padding: 0;position: absolute;width: 1px;}#sk-container-id-15 div.sk-estimator {font-family: monospace;background-color: #f0f8ff;border: 1px dotted black;border-radius: 0.25em;box-sizing: border-box;margin-bottom: 0.5em;}#sk-container-id-15 div.sk-estimator:hover {background-color: #d4ebff;}#sk-container-id-15 div.sk-parallel-item::after {content: \"\";width: 100%;border-bottom: 1px solid gray;flex-grow: 1;}#sk-container-id-15 div.sk-label:hover label.sk-toggleable__label {background-color: #d4ebff;}#sk-container-id-15 div.sk-serial::before {content: \"\";position: absolute;border-left: 1px solid gray;box-sizing: border-box;top: 0;bottom: 0;left: 50%;z-index: 0;}#sk-container-id-15 div.sk-serial {display: flex;flex-direction: column;align-items: center;background-color: white;padding-right: 0.2em;padding-left: 0.2em;position: relative;}#sk-container-id-15 div.sk-item {position: relative;z-index: 1;}#sk-container-id-15 div.sk-parallel {display: flex;align-items: stretch;justify-content: center;background-color: white;position: relative;}#sk-container-id-15 div.sk-item::before, #sk-container-id-15 div.sk-parallel-item::before {content: \"\";position: absolute;border-left: 1px solid gray;box-sizing: border-box;top: 0;bottom: 0;left: 50%;z-index: -1;}#sk-container-id-15 div.sk-parallel-item {display: flex;flex-direction: column;z-index: 1;position: relative;background-color: white;}#sk-container-id-15 div.sk-parallel-item:first-child::after {align-self: flex-end;width: 50%;}#sk-container-id-15 div.sk-parallel-item:last-child::after {align-self: flex-start;width: 50%;}#sk-container-id-15 div.sk-parallel-item:only-child::after {width: 0;}#sk-container-id-15 div.sk-dashed-wrapped {border: 1px dashed gray;margin: 0 0.4em 0.5em 0.4em;box-sizing: border-box;padding-bottom: 0.4em;background-color: white;}#sk-container-id-15 div.sk-label label {font-family: monospace;font-weight: bold;display: inline-block;line-height: 1.2em;}#sk-container-id-15 div.sk-label-container {text-align: center;}#sk-container-id-15 div.sk-container {/* jupyter's `normalize.less` sets `[hidden] { display: none; }` but bootstrap.min.css set `[hidden] { display: none !important; }` so we also need the `!important` here to be able to override the default hidden behavior on the sphinx rendered scikit-learn.org. See: https://github.com/scikit-learn/scikit-learn/issues/21755 */display: inline-block !important;position: relative;}#sk-container-id-15 div.sk-text-repr-fallback {display: none;}</style><div id=\"sk-container-id-15\" class=\"sk-top-container\"><div class=\"sk-text-repr-fallback\"><pre>MLPClassifier(hidden_layer_sizes=(10, 5), max_iter=1000, random_state=42,\n",
       "              validation_fraction=0.2)</pre><b>In a Jupyter environment, please rerun this cell to show the HTML representation or trust the notebook. <br />On GitHub, the HTML representation is unable to render, please try loading this page with nbviewer.org.</b></div><div class=\"sk-container\" hidden><div class=\"sk-item\"><div class=\"sk-estimator sk-toggleable\"><input class=\"sk-toggleable__control sk-hidden--visually\" id=\"sk-estimator-id-15\" type=\"checkbox\" checked><label for=\"sk-estimator-id-15\" class=\"sk-toggleable__label sk-toggleable__label-arrow\">MLPClassifier</label><div class=\"sk-toggleable__content\"><pre>MLPClassifier(hidden_layer_sizes=(10, 5), max_iter=1000, random_state=42,\n",
       "              validation_fraction=0.2)</pre></div></div></div></div></div>"
      ],
      "text/plain": [
       "MLPClassifier(hidden_layer_sizes=(10, 5), max_iter=1000, random_state=42,\n",
       "              validation_fraction=0.2)"
      ]
     },
     "execution_count": 285,
     "metadata": {},
     "output_type": "execute_result"
    }
   ],
   "source": [
    "mlp.fit(X_train, y_train)"
   ]
  },
  {
   "cell_type": "code",
   "execution_count": 286,
   "metadata": {},
   "outputs": [
    {
     "name": "stdout",
     "output_type": "stream",
     "text": [
      "Akurasi Model pada Data Uji: 97.50%\n",
      "Akurasi pada Data Validasi:  None\n",
      "Kerugian pada Data Validasi:  [1.2061733284749048, 1.1993927245152038, 1.1919822048251727, 1.1837522098729765, 1.1750729890961342, 1.1660379566253778, 1.1569405378405484, 1.1479910795984587, 1.1391014625899412, 1.130282775212073, 1.121532094585583, 1.1128084546549633, 1.1041025584546373, 1.0953089401643874, 1.0864491968125742, 1.0777101825288762, 1.0690434711650079, 1.0607479009431502, 1.0534622024175353, 1.0481693609502474, 1.0436034604613735, 1.0389928513214552, 1.0341635815383818, 1.0291651232362822, 1.023899344935198, 1.0185989653983472, 1.0132240854687729, 1.0078465387456093, 1.0025942538774515, 0.9974733567583421, 0.9926085506029249, 0.9881440755906185, 0.9841011448775044, 0.9803168789108133, 0.9766027376895465, 0.972797807295384, 0.9688644708173942, 0.9648015352435124, 0.9606378308210339, 0.9563745662033367, 0.9519970189581878, 0.9474956956642647, 0.9429161352105057, 0.9383155206287381, 0.9337430492527645, 0.929213485043787, 0.9246666273728285, 0.9200309841592019, 0.9152552208169352, 0.9103471044937496, 0.9052843849348855, 0.9001176781091023, 0.894838457728819, 0.8894914797445186, 0.884041713670315, 0.878551130082546, 0.8730565529780587, 0.8675692139480944, 0.8621232023507475, 0.8566618870110184, 0.8511410209817339, 0.8456337448391732, 0.8400871009883727, 0.8345505348625756, 0.8289831806769896, 0.8234845688058268, 0.8180827687502813, 0.8128729348856001, 0.8077149310133704, 0.8028152097599148, 0.7982935412417499, 0.7940329738891128, 0.7899044653909413, 0.7859029981578229, 0.7820230981878656, 0.7782810096230836, 0.7746532231846922, 0.7711368757784933, 0.7678194975532541, 0.7647011986179681, 0.7617586938276748, 0.7589523799784097, 0.7562759187037755, 0.7538186576364724, 0.7514486050445413, 0.749165767136523, 0.7469723956186732, 0.7448710672622969, 0.742859430628957, 0.7409445876377614, 0.7391173418972006, 0.7373941613308034, 0.7357576984546955, 0.7341977336044441, 0.7327194239716843, 0.7313724204006478, 0.7300919482919397, 0.7288590498125423, 0.7276693035465545, 0.726515291457798, 0.7253915686042117, 0.7242932607068006, 0.7232159585116615, 0.7221557122039574, 0.7211141516092966, 0.7201304119552009, 0.7191937944685993, 0.7182562854515282, 0.717310335577822, 0.7163571689174634, 0.7153947658714155, 0.714429237581617, 0.7134616464968176, 0.7125054938766565, 0.7115627504342454, 0.710646478822767, 0.7097447968853765, 0.7088405986887529, 0.7079330948191888, 0.7070163230854203, 0.7061001640113818, 0.7052113166738174, 0.7043296928404895, 0.703450793747749, 0.7025718562194257, 0.7016896269468001, 0.7008043023544758, 0.6999214645530902, 0.6990501967272721, 0.6981909841784899, 0.6973274617923757, 0.6964584476280943, 0.6955962707323121, 0.6947409254584826, 0.6938906079233876, 0.693041622547744, 0.6921925054629904, 0.6913430156094302, 0.6904929417171844, 0.6896461646041746, 0.688800604099118, 0.6879579184713084, 0.6871174728822048, 0.6862717931032533, 0.6854263655116648, 0.6845847003139577, 0.683743040978615, 0.6829016171022201, 0.6820633581052021, 0.6812288411766826, 0.6803941587634708, 0.6795650739153477, 0.6787390705858773, 0.6779127259235906, 0.6770875913086203, 0.6762652289287644, 0.6754480870206935, 0.6746267685317958, 0.6738009881715349, 0.6729812274136803, 0.6721621105168387, 0.6713422678689717, 0.6705216778400067, 0.6697003160993441, 0.6688789658025143, 0.6680557798810329, 0.6672317850555615, 0.6664071183029151, 0.6655854742857784, 0.6647638206282565, 0.6639375857961176, 0.6631106920284435, 0.6622863476883266, 0.6614601541612012, 0.6606320475204813, 0.6598019703163334, 0.6589726720310555, 0.6581422299048594, 0.6573094886138212, 0.656479437216137, 0.6556473643014679, 0.6548127287291939, 0.6539762719178325, 0.6531402538482131, 0.6523011296783754, 0.6514608324934917, 0.650619554336743, 0.6497755672631919, 0.6489302663910111, 0.648084286035279, 0.6472341564779586, 0.6463822980786452, 0.6455313633431411, 0.6446765595616871, 0.6438177400468681, 0.6429565112912432, 0.642095731965307, 0.6412318463452645, 0.6403638290764164, 0.6394949091117123, 0.6386236270102629, 0.6377507790423012, 0.6368737243175909, 0.6359949847094494, 0.6351136829161412, 0.6342297831568261, 0.6333434865211329, 0.6324542085719163, 0.6315624832785719, 0.6306680357185276, 0.6297708287289201, 0.6288708266572918, 0.627967995376443, 0.6270695762470808, 0.626167691005574, 0.6252624920069242, 0.6243536459539211, 0.6234416403122274, 0.6225263176012982, 0.6216077301595224, 0.6206859228195917, 0.6197609327288736, 0.6188327893714437, 0.6179026435071404, 0.6169681751479715, 0.61603102713201, 0.6150913836161014, 0.6141486343596967, 0.6132027637080851, 0.6122560928326858, 0.6113067683914031, 0.610353155418944, 0.6093974662430165, 0.6084370134790971, 0.6074717593253773, 0.6065046646238337, 0.6055366601490652, 0.6045655932783209, 0.6035908132455334, 0.6026123262595812, 0.6016301388569038, 0.6006442579239815, 0.5996551908121169, 0.5986640701774808, 0.5976689319585274, 0.596669912015591, 0.5956692243463156, 0.5946648448184286, 0.5936565708771728, 0.5926444070354292, 0.5916307285127992, 0.5906137797550358, 0.5895918005016842, 0.5885673585741387, 0.5875394186554277, 0.5865092913004513, 0.5854755840806214, 0.5844376233221351, 0.5833963113673284, 0.5823525154198789, 0.5813050393106417, 0.580253960914504, 0.5791993538622807, 0.578142760351703, 0.5770820546800807, 0.5760169236158788, 0.5749503546627801, 0.5738802743700754, 0.5728066916143314, 0.5717296684430874, 0.5706492639169566, 0.5695655337445034, 0.568489439366322, 0.5674176270312405, 0.566358161351375, 0.5652983307247421, 0.5642375072467444, 0.5631738630361708, 0.5621095710419294, 0.561044249712009, 0.5599771511540406, 0.5589082620217173, 0.5578375483720581, 0.5567649566893385, 0.5556904172908863, 0.554613855147542, 0.5535356778300817, 0.5524554565487846, 0.551372843891588, 0.5502879534800645, 0.5492004919383018, 0.5481104306776037, 0.547017758312814, 0.5459224792743366, 0.544824689276827, 0.5437245016401864, 0.5426217855437562, 0.5415165073002203, 0.5404087122035207, 0.5392984437973, 0.5381857417727826, 0.5370706406844488, 0.5359676315128161, 0.5348670875787123, 0.5337667015609582, 0.5326811767855577, 0.5315939885094151, 0.5305053824612046, 0.5294175757177448, 0.5283279237730562, 0.527236541995904, 0.5261455065730114, 0.5250549937787483, 0.5239642730691886, 0.5228788531547937, 0.5217997035451004, 0.5207297613006593, 0.5196667170079583, 0.5186060259320939, 0.517546135146873, 0.516488020825327, 0.5154395125638352, 0.5143920463772848, 0.5133455984379678, 0.5123042456131183, 0.5112660556378226, 0.5102301529036787, 0.5091946506403225, 0.5081600951201436, 0.5071259204291366, 0.5060922856056362, 0.5050605997790202, 0.504030452450023, 0.5030001000581772, 0.5019688923600671, 0.500938493312097, 0.4999097746682243, 0.49888030559573565, 0.49784975916138, 0.4968182126219948, 0.4957850274674353, 0.49474988299738976, 0.4937152226399644, 0.4926788214728416, 0.4916397127640369, 0.49059971642762, 0.48956373413473, 0.48852375669150916, 0.4874857299457551, 0.4864458206708272, 0.48540349963734236, 0.4843593715758205, 0.48331429703872303, 0.4822669795023479, 0.4812189049714154, 0.48017351822082666, 0.4791240693707011, 0.47807306307880865, 0.4770231880882509, 0.4759716286365976, 0.4749190725278178, 0.47386539400018435, 0.47281445328142613, 0.47176483889653903, 0.47071458142413064, 0.4696676777550285, 0.4686254006955265, 0.4675835093605695, 0.46654074847453036, 0.46550064219755405, 0.4644626835710227, 0.4634255369341462, 0.4623881944966308, 0.4613513128825714, 0.46031521274751713, 0.4592785096572468, 0.4582418146599983, 0.45720586085720716, 0.45616975552886846, 0.455133558283024, 0.45409867514142466, 0.4530633338652476, 0.45202747544911853, 0.4509927229461166, 0.449958398929842, 0.44892402877666754, 0.4478896647610981, 0.4468553612123543, 0.44582117361512236, 0.44478879006927435, 0.4437561465258245, 0.4427229644829326, 0.4416911176723572, 0.4406609904019242, 0.439630733580802, 0.43860061019003266, 0.437570886700825, 0.4365425340055938, 0.4355179605927583, 0.4344977421273202, 0.43348249653349097, 0.4324756431404407, 0.4314710695313954, 0.4304691822391453, 0.42947188606423997, 0.4284807083667091, 0.4274973168565564, 0.42653002151322184, 0.42557115829891606, 0.42461901795407153, 0.4236701639770766, 0.42272413492509536, 0.4217849718510293, 0.42085131856672253, 0.4199249534357656, 0.4190044056130714, 0.4180885393169971, 0.41717399155615376, 0.4162629108491244, 0.4153589594811335, 0.4144619271405289, 0.41356772133274866, 0.41267842943056954, 0.4117936810666096, 0.41091150897586765, 0.410031759973905, 0.40915425729016813, 0.4082788236297659, 0.40740632843506985, 0.4065383499294334, 0.4056715677350144, 0.4048061832228197, 0.4039437132687193, 0.40308406011446934, 0.40222533959284384, 0.40136909937827425, 0.4005143798017671, 0.3996644706392945, 0.3988201600667948, 0.39797713390578754, 0.39713545615904433, 0.39629647486088204, 0.3954597917484366, 0.39462665541532593, 0.39379587221011453, 0.39296657661652884, 0.39213887381638074, 0.39131493672182566, 0.3904942749678506, 0.3896768398915447, 0.38886303728958743, 0.38805171827812307, 0.3872429166333998, 0.3864365785473519, 0.38563259301957664, 0.3848308282370145, 0.38403375230547143, 0.38324214060616413, 0.38245136159137016, 0.38166250492332116, 0.38087718053139236, 0.38009401273684146, 0.3793131043177606, 0.3785344400570991, 0.37775791775225015, 0.37698339172666284, 0.37621279238238947, 0.37544046783798896, 0.3746717052999545, 0.37390449064671016, 0.37313930131291584, 0.3723785580834731, 0.3716197326178651, 0.37086326197012465, 0.3701091607340186, 0.3693568104431171, 0.36860626311272493, 0.36785863145845615, 0.367111392805678, 0.36636667691934977, 0.3656247312688374, 0.36488460751841034, 0.36414722339440914, 0.3634127400668202, 0.3626801251441006, 0.3619496045127281, 0.36122152210519565, 0.3604953488532129, 0.3597710598201703, 0.3590492266147373, 0.3583324103662356, 0.35761811053774656, 0.3569071746796817, 0.35619842102003507, 0.3554917438706269, 0.3547870316560085, 0.354084282489297, 0.3533838148340047, 0.35268545107150095, 0.35198913487210415, 0.35129482281427643, 0.3506024309372862, 0.34991234368426, 0.34922478725904965, 0.34853920587675513, 0.34785555106446986, 0.3471738164065406, 0.34649407849996544, 0.345817671126555, 0.34514326680267693, 0.3444706988135371, 0.343800144043135, 0.34313176009064533, 0.34246558841460006, 0.3418015624193894, 0.34113954086283793, 0.34047935386989076, 0.33982100911771534, 0.3391643654763604, 0.338509210814694, 0.3378555594673149, 0.3372035554472862, 0.3365533429297584, 0.3359048250044827, 0.33525806558119425, 0.33461322694034273, 0.33397017146276364, 0.33332876821002394, 0.3326892605989791, 0.3320513873051471, 0.33141558285178313, 0.330781731018683, 0.3301495010643071, 0.3295188866248577, 0.32889008666577085, 0.32826295712352394, 0.32764077920144263, 0.3270194394133931, 0.32639859812728617, 0.3257781132540341, 0.32515813297648316, 0.3245426451724018, 0.3239292089299858, 0.32331701231359494, 0.32270668198589175, 0.322098793149772, 0.3214923113465209, 0.3208872641951466, 0.3202836829978326, 0.3196815949951438, 0.31908101817214707, 0.3184819595548399, 0.31788515697809644, 0.31729101213138305, 0.3166971990433219, 0.3161047654657676, 0.3155149270258292, 0.31492636973816895, 0.3143392928764285, 0.31375378192072795, 0.3131703866547642, 0.31259472635694097, 0.31201735529895724, 0.3114413784521248, 0.3108664758110751, 0.31029220282384795, 0.30972000092348695, 0.30915206828085845, 0.3085850305545089, 0.3080190082129265, 0.30745570574167297, 0.30689274883733647, 0.30633168074361233, 0.30577307012999516, 0.30521621284310424, 0.30466148716758684, 0.30410755617066065, 0.30355587635684994, 0.30300552676062736, 0.3024561092487356, 0.3019095655647366, 0.30136425043671455, 0.30081971449103695, 0.3002785699645007, 0.2997390121184039, 0.2992008151795639, 0.29866331789616873, 0.2981275467705843, 0.2975942128421392, 0.2970612371818914, 0.29653078448296316, 0.29600247512058225, 0.29547563399225235, 0.29494977527333943, 0.29442623193571504, 0.2939043351034237, 0.2933837822761152, 0.2928645106215065, 0.292347695252295, 0.29183175546672413, 0.2913178040022423, 0.29080566470214697, 0.2902949024747724, 0.28978533509399723, 0.2892779625340892, 0.2887708009828202, 0.2882662271073674, 0.28776412857729455, 0.2872627842511681, 0.28676311576417673, 0.2862646423551876, 0.2857674098988282, 0.2852732463484557, 0.2847797575176865, 0.284286321593502, 0.28379653573840435, 0.28330874610170914, 0.28282130905137653, 0.282335624055429, 0.28185112116211847, 0.28136783248889746, 0.2808860886080527, 0.2804067028295479, 0.279928109045976, 0.2794502079526047, 0.27897505859573063, 0.2785018914352079, 0.27802863175016923, 0.2775586054500111, 0.27708929284059813, 0.2766207793382968, 0.2761545946988734, 0.27568957177276343, 0.275225902436848, 0.27476410928029066, 0.2743035533369535, 0.2738442038798102, 0.27338748429196447, 0.27293111582249147, 0.27247603787906954, 0.2720230173502221, 0.2715710501260938, 0.2711201663450676, 0.27067196009667593, 0.2702244514276321, 0.2697773078584222, 0.26933268444962216, 0.26888910255104703, 0.26844770481294616, 0.2680068995331549, 0.2675676807868962, 0.26713007283784773, 0.2666933904037703, 0.2662577257173813, 0.2658238810870278, 0.2653893018479996, 0.2649541626540443, 0.26452207452067356, 0.2640907323880324, 0.2636650337855814, 0.2632283958556145, 0.2628004905814294, 0.262354811549744, 0.26193751192228304, 0.26150553317671704, 0.26105767776803174, 0.26061692491794924, 0.2601867186560193, 0.2597404772063208, 0.2593000539493415, 0.2588611004295256, 0.25841844574779216, 0.257969888416992, 0.25752028373222585, 0.257070886260446, 0.25661924086698495, 0.25616756180406136, 0.2557130946562436, 0.25525631602319393, 0.2547979243391529, 0.2543382502255599, 0.2538790098715696, 0.2534170382597585, 0.25295399425034604, 0.2524891666559828, 0.25202346843862206, 0.25155960238395264, 0.25109428353294955, 0.25062720947138833, 0.2501586801269685, 0.24968905334084726, 0.2492179544971606, 0.2487483566431427, 0.2482781443469613, 0.24780650063307283, 0.2473335867866632, 0.24686016756584023, 0.24638832194436508, 0.2459172296888749, 0.24544389066902841, 0.24497101110250943, 0.24449939497430886, 0.24402689915290834, 0.2435541227851359, 0.24308180001268365, 0.24261053972649685, 0.2421386749368698, 0.2416696722793798, 0.24119794196868943, 0.2407296661782989, 0.24026053791649518, 0.23979351289653497, 0.23932638878407725, 0.23885945569441153, 0.23839744724028894, 0.23793306428721436, 0.23746725476185984, 0.2370077871166056, 0.23654844743032985, 0.23608787173872933, 0.23563310185542644, 0.2351787614507876, 0.23472248772792817, 0.23427393648218914, 0.23382422974918576, 0.2333715711052998, 0.23292424808389325, 0.2324788707826686, 0.23203598613880672, 0.2315933776214475, 0.23115046510949647, 0.23070849187521658, 0.23027236538054427, 0.22983624423844654, 0.22939906208471228, 0.22896534895525658, 0.22853395716059907, 0.22810618135087585, 0.22767966513693336, 0.2272541566348963, 0.22682923574451838, 0.22640790662792978, 0.22598764725815532, 0.22556843490173378, 0.22515154285327582, 0.22473548959903394, 0.22432134093528067, 0.22391027990058932, 0.22350092041563424, 0.2230934992406877, 0.22268694469963077, 0.2222824775711327, 0.2218830503394757, 0.22148383930630536, 0.2210839445304257, 0.220687454610073, 0.2202937779041509, 0.2199011247626373, 0.2195100816919923, 0.21911934429429772, 0.21873183614646388, 0.21834778070221142, 0.21796360989590458, 0.2175790779133978, 0.2172002021392051, 0.2168240261081679, 0.21644883440223459, 0.2160739112631722, 0.21570136724473596, 0.2153330890133253, 0.21496505439328076, 0.21459646173686106, 0.21423181163728414, 0.21386925895763062, 0.21350748405365444, 0.21314784952741686, 0.21278953475241444, 0.21243407489996805, 0.2120795815092386, 0.21172663089977548, 0.21137539275275705, 0.2110270603292276, 0.21067889688308103, 0.21033349112428498, 0.20998950539516523, 0.20964687552685662, 0.20930516844364444, 0.20896615864825188, 0.2086291797692678, 0.2082937005782999, 0.2079582995220301, 0.20762486720036427, 0.2072951714554344, 0.20696637085188352, 0.20663852240500435, 0.20631199199951034, 0.20598781127151927, 0.20566520710996425, 0.2053444486285768, 0.20502424227720537, 0.2047071969426423, 0.20438967188816684, 0.2040740809389659, 0.2037605946385119, 0.20344804803779307, 0.20313852741119431, 0.20282872621608147, 0.20252238707726514, 0.2022162658654925, 0.20191195574046567, 0.2016091853129052, 0.20130689126053586, 0.20100795388325116, 0.20070981880754482, 0.20041125969158324, 0.20011698992682972, 0.19982321782845822, 0.19952986712331375, 0.19923868685452384, 0.1989487339069465, 0.198659563524225, 0.19837255071631654, 0.19808703381283407, 0.1978025839611113, 0.19751869179969356, 0.19723706301693883, 0.19695903839566406, 0.19667914462450473, 0.19639949596682132, 0.19612391697413056, 0.19584905155676333, 0.19557470150218986, 0.19530320034441442, 0.19503250381746345, 0.19476392590173794, 0.19449628175818215, 0.19422997303384112, 0.19396330374244938, 0.19369951922459325, 0.1934368211655369, 0.19317523363408856, 0.19291413929700968, 0.1926547221710287, 0.19239531248482467, 0.1921376503435303, 0.19188204038003906, 0.19162884856591203, 0.19137500494285167, 0.19112153167314008, 0.19087171556577906, 0.1906215647035548, 0.19037385206528307, 0.19012448551628813, 0.18987836728945415, 0.1896323862614117, 0.18938741522976, 0.18914414972512675, 0.18890040141399198, 0.1886613713457951, 0.18841884527266053, 0.18818251960324606, 0.18794442588575036, 0.1877043100986929, 0.18747104464496828, 0.18723416708771393, 0.1870002686740967, 0.18676973315254647, 0.18653473535463597, 0.18630539996972512, 0.186073907922027, 0.18584426432587092, 0.18561690187922764, 0.18538955155036038, 0.18516278590453977, 0.18493768793697107, 0.18471303048295937, 0.1844899873224754, 0.1842670364282682, 0.18404493734756436, 0.183825030074573, 0.18360431809031574, 0.1833857202367616, 0.1831678073745995, 0.18295001127827112, 0.1827345896992534, 0.1825177232973336, 0.18230331714389506, 0.1820898891578361, 0.18187639665386626, 0.18166513879285776, 0.18145279306023873, 0.18124315109343678, 0.18103332755622872, 0.18082417790179317, 0.18061525951906604, 0.18040766774453978, 0.18020136256718505, 0.17999523211361756, 0.17979099782208338, 0.1795873862603962, 0.17938339979772705, 0.17918044527639707, 0.17897836867135036, 0.17877749040173213, 0.17857830296808233, 0.1783775719321796, 0.17817742528876465, 0.17798012086749157, 0.17778245111578553, 0.17758464465008572, 0.1773884333340699, 0.1771929749109011, 0.1769979184169636, 0.17680398618662327, 0.17661065578223492, 0.17641733623248312, 0.17622572450035642, 0.17603465952379319, 0.17584306128935268, 0.17565360139363886, 0.17546488806827218, 0.17527610827863285, 0.17508754982792854, 0.17489966609833696, 0.17471212860142732, 0.17452685404180793, 0.17434172465048928, 0.17415635328482357, 0.17397067682459594, 0.1737873416401624, 0.17360474430245798, 0.17342227531777218, 0.17324017180511878, 0.1730584210650082, 0.17287691169628366, 0.1726958043058643, 0.17251605285348268, 0.17233727583504596, 0.17215816467917064, 0.17197942316556114, 0.17180208461821317, 0.17162503703896273, 0.17144834105555265, 0.17127195302938364, 0.17109727834532565, 0.17092242728864093, 0.1707472223753139, 0.1705737620921638, 0.17040086483757652, 0.17022816979410424, 0.1700557229753191, 0.16988356972484844, 0.1697117526144119, 0.169540594311044, 0.16937051782063103, 0.16920026452832268, 0.16903096436641812, 0.16886195426525566, 0.16869421494137465, 0.168526031896388, 0.16835855551028597, 0.16819187571747615, 0.1680254710202578, 0.1678592406580117, 0.16769332621995528, 0.16752907052299532, 0.167364596153979, 0.16719967781380443, 0.16703627427818207, 0.16687349419468525, 0.16671097188543105, 0.16654854094726243, 0.16638642309010276, 0.16622458152858324, 0.16606302955981142, 0.16590357523414034, 0.16574384590590813, 0.16558361182010356, 0.16542330684908382, 0.16526483255624597, 0.1651065475302135, 0.16494845880717468, 0.16479060415249885, 0.16463336178739107, 0.1644765163658158, 0.1643203905495754, 0.16416466285024567, 0.16400914414822623, 0.1638538520279565, 0.1636988043608851, 0.16354520375109471, 0.16339133085226099, 0.16323695050530976, 0.16308452614916732, 0.1629322778865374, 0.16278004517847905, 0.16262807272863875, 0.16247631513198557, 0.16232478815918297, 0.16217350629860708]\n"
     ]
    }
   ],
   "source": [
    "y_pred_train = mlp.predict(X_train)\n",
    "\n",
    "accuracy = accuracy_score(y_train, y_pred_train)\n",
    "print(\"Akurasi Model pada Data Uji: {:.2f}%\".format(accuracy * 100))\n",
    "\n",
    "print(\"Akurasi pada Data Validasi: \", mlp.validation_scores_)\n",
    "print(\"Kerugian pada Data Validasi: \", mlp.loss_curve_)"
   ]
  },
  {
   "cell_type": "markdown",
   "metadata": {},
   "source": [
    "## Langkah 5: Evaluasi Model"
   ]
  },
  {
   "cell_type": "markdown",
   "metadata": {},
   "source": [
    "### Lakukan evaluasi model dengan data_test."
   ]
  },
  {
   "cell_type": "code",
   "execution_count": 287,
   "metadata": {},
   "outputs": [
    {
     "name": "stdout",
     "output_type": "stream",
     "text": [
      "Akurasi Model pada Data Uji: 96.67%\n",
      "Laporan Klasifikasi pada Data Uji:\n",
      "               precision    recall  f1-score   support\n",
      "\n",
      "           0       1.00      1.00      1.00        10\n",
      "           1       1.00      0.89      0.94         9\n",
      "           2       0.92      1.00      0.96        11\n",
      "\n",
      "    accuracy                           0.97        30\n",
      "   macro avg       0.97      0.96      0.97        30\n",
      "weighted avg       0.97      0.97      0.97        30\n",
      "\n"
     ]
    }
   ],
   "source": [
    "y_pred = mlp.predict(X_test)\n",
    "\n",
    "accuracy = accuracy_score(y_test, y_pred)\n",
    "print(\"Akurasi Model pada Data Uji: {:.2f}%\".format(accuracy * 100))\n",
    "\n",
    "print(\"Laporan Klasifikasi pada Data Uji:\\n\", classification_report(y_test, y_pred))\n"
   ]
  },
  {
   "cell_type": "code",
   "execution_count": 288,
   "metadata": {},
   "outputs": [
    {
     "name": "stdout",
     "output_type": "stream",
     "text": [
      "Confusion Matrix:\n",
      "[[10  0  0]\n",
      " [ 0  8  1]\n",
      " [ 0  0 11]]\n",
      "Akurasi: 96.67%\n",
      "Presisi: 0.97\n",
      "Recall: 0.97\n"
     ]
    }
   ],
   "source": [
    "confusion = confusion_matrix(y_test, y_pred)\n",
    "\n",
    "akurasi = accuracy_score(y_test, y_pred)\n",
    "\n",
    "presisi = precision_score(y_test, y_pred, average='weighted')\n",
    "\n",
    "recall = recall_score(y_test, y_pred, average='weighted')\n",
    "\n",
    "print(\"Confusion Matrix:\")\n",
    "print(confusion)\n",
    "print(\"Akurasi: {:.2f}%\".format(akurasi * 100))\n",
    "print(\"Presisi: {:.2f}\".format(presisi))\n",
    "print(\"Recall: {:.2f}\".format(recall))\n"
   ]
  },
  {
   "cell_type": "markdown",
   "metadata": {},
   "source": [
    "## Langkah 6: Prediksi"
   ]
  },
  {
   "cell_type": "markdown",
   "metadata": {},
   "source": [
    "### Gunakan model yang telah dilatih tersebut untuk membuat prediksi pada data baru."
   ]
  },
  {
   "cell_type": "code",
   "execution_count": 289,
   "metadata": {},
   "outputs": [
    {
     "name": "stdout",
     "output_type": "stream",
     "text": [
      "  buying maint doors persons lugboot safety label\n",
      "0    med   low     4    more   small    med   acc\n",
      "  buying maint doors persons lugboot safety  label\n",
      "0    med  high     3       4   small    low  unacc\n",
      "  buying maint doors persons lugboot safety  label\n",
      "0   high   med     2       4     med    low  vgood\n",
      "  buying maint doors persons lugboot safety  label\n",
      "0    low  high     3       2     big    med  vgood\n",
      "  buying maint doors persons lugboot safety  label\n",
      "0    low   low     4       4     med    low  unacc\n",
      "  buying maint doors persons lugboot safety label\n",
      "0    med   low     3       2     med   high  good\n",
      "  buying maint doors persons lugboot safety label\n",
      "0   high  high     2       2   small    low   acc\n",
      "  buying maint doors persons lugboot safety  label\n",
      "0  vhigh  high     2    more   small   high  vgood\n",
      "  buying maint doors persons lugboot safety  label\n",
      "0   high  high     3       4   small    low  unacc\n",
      "  buying maint doors persons lugboot safety label\n",
      "0    low   med     4    more     med   high   acc\n",
      "  buying maint  doors persons lugboot safety label\n",
      "0  vhigh  high  5more    more     med    med  good\n",
      "  buying maint  doors persons lugboot safety label\n",
      "0    low   low  5more    more     med   high   acc\n",
      "  buying maint doors persons lugboot safety  label\n",
      "0   high   low     4    more   small    med  vgood\n",
      "  buying maint  doors persons lugboot safety label\n",
      "0  vhigh  high  5more       4   small   high  good\n",
      "  buying maint doors persons lugboot safety  label\n",
      "0    low  high     4       2   small    med  vgood\n",
      "  buying maint doors persons lugboot safety label\n",
      "0    med  high     4       4     med    med   acc\n",
      "  buying  maint doors persons lugboot safety label\n",
      "0    med  vhigh     3       2     med   high   acc\n",
      "  buying  maint doors persons lugboot safety  label\n",
      "0   high  vhigh     3       2     big    med  vgood\n",
      "  buying maint  doors persons lugboot safety label\n",
      "0    low  high  5more       4     med   high  good\n",
      "  buying maint  doors persons lugboot safety  label\n",
      "0   high  high  5more    more     med    med  vgood\n",
      "  buying maint doors persons lugboot safety  label\n",
      "0  vhigh  high     2    more   small    low  vgood\n",
      "  buying  maint doors persons lugboot safety  label\n",
      "0   high  vhigh     2       2     big    low  vgood\n",
      "  buying maint  doors persons lugboot safety  label\n",
      "0    low   med  5more       4     big   high  vgood\n",
      "  buying maint doors persons lugboot safety label\n",
      "0   high  high     3       4     med    med   acc\n",
      "  buying maint doors persons lugboot safety  label\n",
      "0    low   med     4       2     big    low  vgood\n",
      "  buying maint doors persons lugboot safety  label\n",
      "0   high   low     2       4   small   high  unacc\n",
      "  buying  maint doors persons lugboot safety  label\n",
      "0  vhigh  vhigh     4    more     med    med  unacc\n",
      "  buying  maint  doors persons lugboot safety label\n",
      "0  vhigh  vhigh  5more    more     big    low   acc\n",
      "  buying  maint  doors persons lugboot safety label\n",
      "0  vhigh  vhigh  5more       2   small    low   acc\n",
      "  buying maint doors persons lugboot safety label\n",
      "0    med   med     2    more     big   high   acc\n",
      "  buying maint doors persons lugboot safety label\n",
      "0    med  high     3       2   small    med  good\n",
      "  buying  maint  doors persons lugboot safety  label\n",
      "0    low  vhigh  5more       4     med    low  vgood\n",
      "  buying maint doors persons lugboot safety  label\n",
      "0   high   low     3    more     med    med  unacc\n",
      "  buying maint  doors persons lugboot safety  label\n",
      "0    med   low  5more    more   small    med  unacc\n",
      "  buying maint doors persons lugboot safety  label\n",
      "0   high   low     3       2   small    low  unacc\n",
      "  buying maint  doors persons lugboot safety label\n",
      "0   high  high  5more       4     med   high  good\n",
      "  buying maint doors persons lugboot safety  label\n",
      "0    low   low     3       2     med    med  unacc\n",
      "  buying maint  doors persons lugboot safety  label\n",
      "0   high   low  5more    more     big   high  unacc\n",
      "  buying maint doors persons lugboot safety  label\n",
      "0  vhigh   med     3       2     med   high  unacc\n",
      "  buying  maint doors persons lugboot safety label\n",
      "0    low  vhigh     3       4     big    low  good\n",
      "  buying  maint doors persons lugboot safety label\n",
      "0   high  vhigh     3    more   small   high  good\n",
      "  buying  maint  doors persons lugboot safety label\n",
      "0    low  vhigh  5more       2     big    low   acc\n",
      "  buying maint doors persons lugboot safety label\n",
      "0   high   low     4       2     big   high  good\n",
      "  buying maint doors persons lugboot safety  label\n",
      "0  vhigh   low     3       4     big    med  vgood\n",
      "  buying maint doors persons lugboot safety label\n",
      "0    med   low     4       2   small   high   acc\n",
      "  buying maint doors persons lugboot safety label\n",
      "0    low  high     4       4     big    med  good\n",
      "  buying maint  doors persons lugboot safety label\n",
      "0  vhigh  high  5more       2     big    low  good\n",
      "  buying maint doors persons lugboot safety label\n",
      "0  vhigh  high     2    more   small    med   acc\n",
      "  buying maint  doors persons lugboot safety label\n",
      "0    low  high  5more       2   small    low   acc\n",
      "  buying maint doors persons lugboot safety  label\n",
      "0   high   med     3    more   small   high  vgood\n",
      "  buying maint  doors persons lugboot safety  label\n",
      "0   high  high  5more    more     med    low  vgood\n",
      "  buying maint doors persons lugboot safety  label\n",
      "0   high   med     2    more     big    med  unacc\n",
      "  buying maint doors persons lugboot safety label\n",
      "0  vhigh   med     3    more     med    low  good\n",
      "  buying maint doors persons lugboot safety  label\n",
      "0    med   low     4    more   small    med  vgood\n",
      "  buying maint doors persons lugboot safety label\n",
      "0  vhigh  high     4       4     big    med  good\n",
      "  buying maint doors persons lugboot safety label\n",
      "0    med  high     2       4     big    med   acc\n",
      "  buying maint doors persons lugboot safety label\n",
      "0    low   med     4       2     big    low  good\n",
      "  buying maint doors persons lugboot safety label\n",
      "0   high  high     4    more     big   high   acc\n",
      "  buying maint doors persons lugboot safety label\n",
      "0    med  high     3       4   small   high   acc\n",
      "  buying maint doors persons lugboot safety  label\n",
      "0  vhigh   med     2    more     med   high  vgood\n",
      "  buying  maint doors persons lugboot safety  label\n",
      "0  vhigh  vhigh     3    more   small   high  vgood\n",
      "  buying maint doors persons lugboot safety  label\n",
      "0   high  high     4       2     big    med  vgood\n",
      "  buying maint  doors persons lugboot safety label\n",
      "0    med  high  5more    more     med    low  good\n",
      "  buying maint doors persons lugboot safety  label\n",
      "0   high   med     4    more     med    med  vgood\n",
      "  buying maint doors persons lugboot safety  label\n",
      "0    med   med     4    more     med    med  unacc\n",
      "  buying maint doors persons lugboot safety  label\n",
      "0    med  high     2    more     big   high  vgood\n",
      "  buying maint  doors persons lugboot safety  label\n",
      "0   high   low  5more       4     big    med  unacc\n",
      "  buying maint doors persons lugboot safety  label\n",
      "0   high   low     4    more     big    med  vgood\n",
      "  buying maint doors persons lugboot safety label\n",
      "0    low   med     4       2   small   high  good\n",
      "  buying maint doors persons lugboot safety label\n",
      "0  vhigh   low     3    more   small    med  good\n",
      "  buying maint  doors persons lugboot safety label\n",
      "0    med  high  5more       4     big    med   acc\n",
      "  buying  maint doors persons lugboot safety  label\n",
      "0   high  vhigh     3    more     big   high  unacc\n",
      "  buying maint doors persons lugboot safety  label\n",
      "0  vhigh   low     3       4     big   high  vgood\n",
      "  buying  maint  doors persons lugboot safety  label\n",
      "0  vhigh  vhigh  5more       4     big    med  unacc\n",
      "  buying maint doors persons lugboot safety label\n",
      "0  vhigh  high     3       2   small    med   acc\n",
      "  buying maint doors persons lugboot safety  label\n",
      "0   high   low     4       4   small    med  unacc\n",
      "  buying maint doors persons lugboot safety  label\n",
      "0    low  high     2       4   small    med  unacc\n",
      "  buying maint  doors persons lugboot safety label\n",
      "0    low   med  5more       4   small   high  good\n",
      "  buying  maint  doors persons lugboot safety label\n",
      "0    med  vhigh  5more       2   small   high   acc\n",
      "  buying maint doors persons lugboot safety  label\n",
      "0  vhigh  high     2       4     med   high  unacc\n",
      "  buying maint doors persons lugboot safety  label\n",
      "0   high   med     4       4     med   high  unacc\n",
      "  buying  maint  doors persons lugboot safety  label\n",
      "0   high  vhigh  5more       2     big    low  vgood\n",
      "  buying  maint doors persons lugboot safety label\n",
      "0    med  vhigh     4    more   small   high  good\n",
      "  buying  maint  doors persons lugboot safety  label\n",
      "0  vhigh  vhigh  5more    more     med   high  vgood\n",
      "  buying  maint doors persons lugboot safety  label\n",
      "0    med  vhigh     2       4   small    low  unacc\n",
      "  buying maint doors persons lugboot safety label\n",
      "0  vhigh  high     4       2     big    low  good\n",
      "  buying maint doors persons lugboot safety label\n",
      "0    med   low     3       2   small   high   acc\n",
      "  buying maint doors persons lugboot safety label\n",
      "0  vhigh  high     2       4   small    low  good\n",
      "  buying maint doors persons lugboot safety  label\n",
      "0  vhigh   med     3       4     big    med  vgood\n",
      "  buying maint doors persons lugboot safety  label\n",
      "0    low   low     4       2   small    low  vgood\n",
      "  buying maint doors persons lugboot safety label\n",
      "0   high   low     4       4   small    med  good\n",
      "  buying maint doors persons lugboot safety  label\n",
      "0    low   low     2    more     med   high  vgood\n",
      "  buying maint doors persons lugboot safety  label\n",
      "0    low   low     3       4     med    med  vgood\n",
      "  buying  maint doors persons lugboot safety  label\n",
      "0  vhigh  vhigh     3       2   small    med  vgood\n",
      "  buying  maint doors persons lugboot safety label\n",
      "0   high  vhigh     3    more     med    med  good\n",
      "  buying  maint doors persons lugboot safety  label\n",
      "0    med  vhigh     4       2   small    low  vgood\n",
      "  buying  maint doors persons lugboot safety label\n",
      "0    low  vhigh     2    more     big    low  good\n",
      "  buying maint doors persons lugboot safety label\n",
      "0    low   low     3       4     big    low  good\n",
      "  buying maint doors persons lugboot safety label\n",
      "0    low  high     3       2     big    low   acc\n",
      "  buying maint doors persons lugboot safety label\n",
      "0    low  high     4       4     big   high  good\n"
     ]
    }
   ],
   "source": [
    "buying = ['low', 'med', 'high', 'vhigh']\n",
    "maint = ['low', 'med', 'high', 'vhigh']\n",
    "doors = ['2', '3', '4', '5more']\n",
    "persons = ['2', '4', 'more']\n",
    "lugboot = ['small', 'med', 'big']\n",
    "safety = ['low', 'med', 'high']\n",
    "label = ['unacc', 'acc', 'good', 'vgood']\n",
    "ulang = 0\n",
    "\n",
    "while ulang < 100:\n",
    "    data_baru = pd.DataFrame({\n",
    "        'buying': [random.choice(buying)],\n",
    "        'maint': [random.choice(maint)],\n",
    "        'doors': [random.choice(doors)],\n",
    "        'persons': [random.choice(persons)],\n",
    "        'lugboot': [random.choice(lugboot)],\n",
    "        'safety': [random.choice(safety)],\n",
    "        'label': [random.choice(label)]\n",
    "    })\n",
    "    ulang += 1\n",
    "    print(data_baru)\n"
   ]
  },
  {
   "cell_type": "code",
   "execution_count": 290,
   "metadata": {},
   "outputs": [
    {
     "name": "stdout",
     "output_type": "stream",
     "text": [
      "buying_low        True\n",
      "buying_med       False\n",
      "buying_high      False\n",
      "buying_vhigh     False\n",
      "maint_low        False\n",
      "maint_med        False\n",
      "maint_high        True\n",
      "maint_vhigh      False\n",
      "doors_2          False\n",
      "doors_3          False\n",
      "doors_4           True\n",
      "doors_5more      False\n",
      "persons_2        False\n",
      "persons_4         True\n",
      "persons_more     False\n",
      "lugboot_small    False\n",
      "lugboot_med      False\n",
      "lugboot_big       True\n",
      "safety_low       False\n",
      "safety_med       False\n",
      "safety_high       True\n",
      "buying             low\n",
      "maint             high\n",
      "doors                4\n",
      "persons              4\n",
      "lugboot            big\n",
      "safety            high\n",
      "label             good\n",
      "class             True\n",
      "Name: 0, dtype: object\n",
      "class\n",
      "True    1\n",
      "Name: count, dtype: int64\n"
     ]
    }
   ],
   "source": [
    "data_baru.columns = ['buying','maint','doors','persons','lugboot','safety','label']\n",
    "\n",
    "data_baru.buying  = pd.Categorical(data_baru.buying, categories=['low', 'med', 'high', 'vhigh'], ordered=True)\n",
    "data_baru.maint   = pd.Categorical(data_baru.maint, categories=['low', 'med', 'high', 'vhigh'], ordered=True)\n",
    "data_baru.doors   = pd.Categorical(data_baru.doors, categories=['2', '3', '4', '5more'], ordered=True)\n",
    "data_baru.persons = pd.Categorical(data_baru.persons, categories=[ '2', '4', 'more'], ordered=True)\n",
    "data_baru.lugboot = pd.Categorical(data_baru.lugboot, categories=['small', 'med', 'big'], ordered=True)\n",
    "data_baru.safety  = pd.Categorical(data_baru.safety, categories=['low', 'med', 'high'], ordered=True)\n",
    "data_baru.label   = pd.Categorical(data_baru.label, categories=['unacc','acc','good','vgood'], ordered=True)\n",
    "\n",
    "data_baru['class'] = ~(data_baru['label']=='unacc')\n",
    "\n",
    "data_baru = pd.get_dummies(data_baru.iloc[:,0:6]).merge(data_baru,left_index=True,right_index=True)\n",
    "\n",
    "print(data_baru.iloc[0])\n",
    "\n",
    "print(data_baru['class'].value_counts())"
   ]
  },
  {
   "cell_type": "code",
   "execution_count": 291,
   "metadata": {},
   "outputs": [],
   "source": [
    "x_data_baru = data_baru.drop(columns=['lugboot','safety','label','buying','maint','persons','doors'])\n",
    "y_data_baru = data_baru['buying']"
   ]
  },
  {
   "cell_type": "code",
   "execution_count": 292,
   "metadata": {},
   "outputs": [],
   "source": [
    "iris = load_iris()\n",
    "x_data_baru = iris.data\n",
    "y_data_baru = iris.target"
   ]
  },
  {
   "cell_type": "code",
   "execution_count": 293,
   "metadata": {},
   "outputs": [],
   "source": [
    "X_data_baru_train, X_data_baru_test, y_data_baru_train, y_data_baru_test = train_test_split(x_data_baru, y_data_baru, test_size=0.2, random_state=42)"
   ]
  },
  {
   "cell_type": "code",
   "execution_count": 294,
   "metadata": {},
   "outputs": [
    {
     "name": "stdout",
     "output_type": "stream",
     "text": [
      "Akurasi Model pada Data Uji: 97.50%\n",
      "Laporan Klasifikasi pada Data Uji:\n",
      "               precision    recall  f1-score   support\n",
      "\n",
      "           0       1.00      1.00      1.00        40\n",
      "           1       0.97      0.95      0.96        41\n",
      "           2       0.95      0.97      0.96        39\n",
      "\n",
      "    accuracy                           0.97       120\n",
      "   macro avg       0.97      0.98      0.97       120\n",
      "weighted avg       0.98      0.97      0.98       120\n",
      "\n"
     ]
    }
   ],
   "source": [
    "y_data_baru_pred_train = mlp.predict(X_data_baru_train)\n",
    "\n",
    "accuracy = accuracy_score(y_data_baru_train, y_data_baru_pred_train)\n",
    "print(\"Akurasi Model pada Data Uji: {:.2f}%\".format(accuracy * 100))\n",
    "\n",
    "print(\"Laporan Klasifikasi pada Data Uji:\\n\", classification_report(y_data_baru_train, y_data_baru_pred_train))"
   ]
  },
  {
   "cell_type": "code",
   "execution_count": 295,
   "metadata": {},
   "outputs": [
    {
     "name": "stdout",
     "output_type": "stream",
     "text": [
      "Akurasi Model pada Data Uji: 96.67%\n",
      "Laporan Klasifikasi pada Data Uji:\n",
      "               precision    recall  f1-score   support\n",
      "\n",
      "           0       1.00      1.00      1.00        10\n",
      "           1       1.00      0.89      0.94         9\n",
      "           2       0.92      1.00      0.96        11\n",
      "\n",
      "    accuracy                           0.97        30\n",
      "   macro avg       0.97      0.96      0.97        30\n",
      "weighted avg       0.97      0.97      0.97        30\n",
      "\n"
     ]
    }
   ],
   "source": [
    "y_data_baru_pred_test = mlp.predict(X_data_baru_test)\n",
    "\n",
    "accuracy = accuracy_score(y_data_baru_test, y_data_baru_pred_test)\n",
    "print(\"Akurasi Model pada Data Uji: {:.2f}%\".format(accuracy * 100))\n",
    "\n",
    "print(\"Laporan Klasifikasi pada Data Uji:\\n\", classification_report(y_data_baru_test, y_data_baru_pred_test))"
   ]
  },
  {
   "cell_type": "markdown",
   "metadata": {},
   "source": [
    "## Langkah 7: Visualisasi Hasil"
   ]
  },
  {
   "cell_type": "markdown",
   "metadata": {},
   "source": [
    "### Buat grafik untuk menganalisis hasil klasifikasi."
   ]
  },
  {
   "cell_type": "code",
   "execution_count": 296,
   "metadata": {},
   "outputs": [
    {
     "data": {
      "image/png": "[encoded data removed]",
      "text/plain": [
       "<Figure size 640x480 with 2 Axes>"
      ]
     },
     "metadata": {},
     "output_type": "display_data"
    }
   ],
   "source": [
    "cm = confusion_matrix(y_test, y_pred)\n",
    "\n",
    "disp = ConfusionMatrixDisplay(confusion_matrix=cm, display_labels=mlp.classes_)\n",
    "disp.plot(cmap='viridis', values_format='.0f')\n",
    "plt.title('Matriks Kebingungan')\n",
    "plt.show()"
   ]
  },
  {
   "cell_type": "code",
   "execution_count": 297,
   "metadata": {},
   "outputs": [
    {
     "data": {
      "image/png": "[encoded data removed]",
      "text/plain": [
       "<Figure size 640x480 with 1 Axes>"
      ]
     },
     "metadata": {},
     "output_type": "display_data"
    }
   ],
   "source": [
    "y_test_bin = label_binarize(y_test, classes=mlp.classes_)\n",
    "\n",
    "precision = {}\n",
    "recall = {}\n",
    "for i in range(len(mlp.classes_)):\n",
    "    precision[i], recall[i], _ = precision_recall_curve(y_test_bin[:, i], mlp.predict_proba(X_test)[:, i])\n",
    "\n",
    "plt.figure()\n",
    "colors = ['blue', 'red', 'green', 'orange']\n",
    "for i in range(len(mlp.classes_)):\n",
    "    plt.plot(recall[i], precision[i], color=colors[i], lw=2, label='Kelas {0}'.format(i))\n",
    "\n",
    "plt.xlabel('Recall')\n",
    "plt.ylabel('Precision')\n",
    "plt.title('Kurva Precision-Recall untuk Klasifikasi Multikelas')\n",
    "plt.legend(loc='lower left')\n",
    "plt.show()\n"
   ]
  },
  {
   "cell_type": "markdown",
   "metadata": {},
   "source": [
    "## Langkah 8: Dokumentasi/Laporan Tugas"
   ]
  },
  {
   "cell_type": "markdown",
   "metadata": {},
   "source": [
    "### Buat laporan proyek, meliputi:"
   ]
  },
  {
   "cell_type": "markdown",
   "metadata": {},
   "source": [
    "#### a. Deskripsi Dataset,"
   ]
  },
  {
   "cell_type": "markdown",
   "metadata": {},
   "source": [
    "Dataset yang digunakan dalam proyek ini adalah data tentang mobil. Data ini mencakup beberapa atribut yang dapat digunakan untuk memprediksi klasifikasi mobil, dengan atribut utama termasuk harga, pemeliharaan, jumlah pintu, jumlah penumpang yang dapat dibawa, ukuran bagasi, dan tingkat keamanan. Terdapat empat kelas target yang mencakup 'unacc' (tidak dapat diterima), 'acc' (dapat diterima), 'good' (baik), dan 'vgood' (sangat baik)."
   ]
  },
  {
   "cell_type": "markdown",
   "metadata": {},
   "source": [
    "#### b. Arsitektur Model,"
   ]
  },
  {
   "cell_type": "markdown",
   "metadata": {},
   "source": [
    "Dalam proyek ini, kami menggunakan arsitektur model Neural Network Multilayer Perceptron (MLP) dengan dua lapis tersembunyi. Jumlah neuron dalam setiap lapisan tersembunyi adalah 10 dan 5. Kami menggunakan model MLPClassifier dari pustaka scikit-learn. Data yang digunakan adalah data mobil yang telah dinormalisasi dan diubah menjadi bentuk one-hot encoding untuk atribut kategori."
   ]
  },
  {
   "cell_type": "markdown",
   "metadata": {},
   "source": [
    "#### c. Hasil Evaluasi"
   ]
  },
  {
   "cell_type": "markdown",
   "metadata": {},
   "source": [
    "Model MLP telah dievaluasi menggunakan data uji dengan berbagai metrik kinerja. Hasil evaluasi model termasuk:\n",
    "\n",
    "Akurasi pada data latih: 97.50%\n",
    "\n",
    "Akurasi pada data uji: 96.67%\n",
    "\n",
    "Laporan klasifikasi yang mencakup metrik precision, recall, dan f1-score untuk setiap kelas.\n",
    "\n",
    "Matriks kebingungan (confusion matrix) untuk melihat seberapa baik model memprediksi setiap kelas.\n",
    "\n",
    "Kurva ROC (Receiver Operating Characteristic) untuk menganalisis kinerja model dalam membedakan kelas positif dan negatif."
   ]
  },
  {
   "cell_type": "markdown",
   "metadata": {},
   "source": [
    "#### d. Kesimpulan."
   ]
  },
  {
   "cell_type": "markdown",
   "metadata": {},
   "source": [
    "Dalam proyek ini, kami berhasil memodelkan Neural Network Multilayer Perceptron untuk memprediksi klasifikasi mobil berdasarkan atribut yang diberikan. Model memiliki kinerja yang baik dengan akurasi yang tinggi pada data uji. Hasil evaluasi termasuk metrik kinerja yang memberikan wawasan tentang sejauh mana model dapat memprediksi dengan benar setiap kelas. Dalam pengembangan selanjutnya, kami dapat melakukan penyesuaian lebih lanjut untuk meningkatkan kinerja model atau mempertimbangkan algoritma dan teknik lainnya. Keseluruhan, proyek ini berhasil dalam memprediksi klasifikasi mobil berdasarkan atribut yang tersedia."
   ]
  }
 ],
 "metadata": {
  "kernelspec": {
   "display_name": "Python 3",
   "language": "python",
   "name": "python3"
  },
  "language_info": {
   "codemirror_mode": {
    "name": "ipython",
    "version": 3
   },
   "file_extension": ".py",
   "mimetype": "text/x-python",
   "name": "python",
   "nbconvert_exporter": "python",
   "pygments_lexer": "ipython3",
   "version": "3.11.4"
  }
 },
 "nbformat": 4,
 "nbformat_minor": 2
}
